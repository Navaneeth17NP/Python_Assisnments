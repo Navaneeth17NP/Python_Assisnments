{
 "cells": [
  {
   "cell_type": "markdown",
   "id": "c7e1bfff",
   "metadata": {},
   "source": [
    "  ##                                        TUPLE, SET, DICTIONARY Assignment"
   ]
  },
  {
   "cell_type": "markdown",
   "id": "617958e9",
   "metadata": {},
   "source": [
    "## Q1. What are the characteristics of the tuples? Is tuple immutable?"
   ]
  },
  {
   "cell_type": "markdown",
   "id": "ae476075",
   "metadata": {},
   "source": [
    "A tuple is one of the four data types(List, Dictionary, Set, Tuple) that are built into Python. \n",
    "\n",
    "The main characteristics of Tuples are:\n",
    "\n",
    "- Indexed\n",
    "- Ordered\n",
    "- Immutable\n",
    "- Can contain duplicate items\n",
    "\n",
    "Tuples are immutable. we cannot modify/remove elements inside the tuples. Tuples are usedwhen you want the data in your collection to be read-only."
   ]
  },
  {
   "cell_type": "markdown",
   "id": "30f9d2be",
   "metadata": {},
   "source": [
    "## Q2. What are the two tuple methods in python? Give an example of each method. Give a reason why tuples have only two in-built methods as compared to Lists."
   ]
  },
  {
   "cell_type": "markdown",
   "id": "b413b131",
   "metadata": {},
   "source": [
    "The two tuple methods available in python are COUNT and INDEX functoins. Count functons is used to get number of times a particular element is present in tuple. The index() method finds the first occurrence of the specified value. "
   ]
  },
  {
   "cell_type": "code",
   "execution_count": 6,
   "id": "5b8fdf38",
   "metadata": {},
   "outputs": [
    {
     "name": "stdout",
     "output_type": "stream",
     "text": [
      "Number of times 4 is present in tuple is 3\n",
      "The index of 6 in tuple is 6\n"
     ]
    }
   ],
   "source": [
    "# consider a tuple t\n",
    "t=(1,2,3,4,4,5,6,8,4,6)\n",
    "# we will try to find the number of times '4' is present in tuple 't'\n",
    "print('Number of times 4 is present in tuple is',t.count(4))\n",
    "#  we will try to find the index of '6'\n",
    "print('The index of 6 in tuple is',t.index(6))"
   ]
  },
  {
   "cell_type": "markdown",
   "id": "3e5efc8c",
   "metadata": {},
   "source": [
    "Since tuple in immutable we cannot use functions like insertion, deletion, update, append and extent."
   ]
  },
  {
   "cell_type": "markdown",
   "id": "8a4d2707",
   "metadata": {},
   "source": [
    "## Q3. Which collection datatypes in python do not allow duplicate items? Write a code using a set to remove duplicates from the given list."
   ]
  },
  {
   "cell_type": "code",
   "execution_count": null,
   "id": "2c6fb6cc",
   "metadata": {},
   "outputs": [],
   "source": [
    "Set is one of the four data types(List, Dictionary, Set, Tuple) that are built into Python that does not allow duplicates."
   ]
  },
  {
   "cell_type": "code",
   "execution_count": 12,
   "id": "2d7630c0",
   "metadata": {},
   "outputs": [
    {
     "data": {
      "text/plain": [
       "{1, 2, 3, 4}"
      ]
     },
     "execution_count": 12,
     "metadata": {},
     "output_type": "execute_result"
    }
   ],
   "source": [
    "# code to remove duplicates using SET.\n",
    "List = [1, 1, 1, 2, 1, 3, 1, 4, 2, 1, 2, 2, 2, 3, 2, 4, 3, 1, 3, 2, 3, 3, 3, 4, 4, 1, 4, 2, 4, 3, 4, 4]\n",
    "s=set(List)\n",
    "s"
   ]
  },
  {
   "cell_type": "markdown",
   "id": "d8c8fe6f",
   "metadata": {},
   "source": [
    "## Q4. Explain the difference between the union() and update() methods for a set. Give an example of each method."
   ]
  },
  {
   "cell_type": "markdown",
   "id": "aa0037bb",
   "metadata": {},
   "source": [
    "Both set.update() and set.union() perform the union operation. but the main difference is that there is no new set created in update function.\n",
    "\n",
    "Consider two sets s1 and s2, Union() methods returns new set with elements from both s1 and s2. Update() method return set s1 with elements added from s2. No new set is created in update() funtion."
   ]
  },
  {
   "cell_type": "code",
   "execution_count": 13,
   "id": "297b8267",
   "metadata": {},
   "outputs": [
    {
     "data": {
      "text/plain": [
       "{1, 2, 3, 4, 5, 6, 7, 8}"
      ]
     },
     "execution_count": 13,
     "metadata": {},
     "output_type": "execute_result"
    }
   ],
   "source": [
    "s1={1,2,3,4}\n",
    "s2={5,6,7,8}\n",
    "s1.union(s2)"
   ]
  },
  {
   "cell_type": "code",
   "execution_count": 15,
   "id": "7107f089",
   "metadata": {},
   "outputs": [
    {
     "data": {
      "text/plain": [
       "{1, 2, 3, 4, 5, 6, 7, 8}"
      ]
     },
     "execution_count": 15,
     "metadata": {},
     "output_type": "execute_result"
    }
   ],
   "source": [
    "s11={1,2,3,4}\n",
    "s22={5,6,7,8}\n",
    "s11.update(s22)\n",
    "s11"
   ]
  },
  {
   "cell_type": "markdown",
   "id": "125ba40f",
   "metadata": {},
   "source": [
    "## Q5. What is a dictionary? Give an example. Also, state whether a dictionary is ordered or unordered."
   ]
  },
  {
   "cell_type": "markdown",
   "id": "2749eae4",
   "metadata": {},
   "source": [
    "Dictionary is one of the four data types(List, Dictionary, Set, Tuple) that are built into Python. A dictionary is a collection which is ordered, changeable and do not allow duplicates. Dictionary items are presented in key:value pairs, and can be referred to by using the key name. \n",
    "\n",
    "Dictionary is ordered means it remembers the insertion order of (key, value) pairs in the dictionary and thus preserves the order."
   ]
  },
  {
   "cell_type": "code",
   "execution_count": 18,
   "id": "b95c78d0",
   "metadata": {},
   "outputs": [
    {
     "data": {
      "text/plain": [
       "{'Name': 'Ram', 'Dept': 'Production', 'DoJ': '12/5/2020'}"
      ]
     },
     "execution_count": 18,
     "metadata": {},
     "output_type": "execute_result"
    }
   ],
   "source": [
    "# Dictionary example\n",
    "d={\"Name\": \"Ram\", \"Dept\": \"Production\", \"DoJ\": '12/5/2020'}\n",
    "d"
   ]
  },
  {
   "cell_type": "markdown",
   "id": "da1e93ff",
   "metadata": {},
   "source": [
    "## Q6. Can we create a nested dictionary? If so, please give an example by creating a simple one-level nested dictionary."
   ]
  },
  {
   "cell_type": "markdown",
   "id": "353da2e1",
   "metadata": {},
   "source": [
    "Yes, nested dictionary can be created."
   ]
  },
  {
   "cell_type": "code",
   "execution_count": 21,
   "id": "ac3e1a78",
   "metadata": {},
   "outputs": [
    {
     "data": {
      "text/plain": [
       "{'Class1': {'Name': 'Ram', 'Age': '23'},\n",
       " 'Class2': {'Name': 'Sam', 'Age': '25'}}"
      ]
     },
     "execution_count": 21,
     "metadata": {},
     "output_type": "execute_result"
    }
   ],
   "source": [
    "# example for nested dictionary\n",
    "d_nested = { 'Class1': {'Name': 'Ram', 'Age': '23'}, 'Class2': {'Name': 'Sam', 'Age': '25'}}\n",
    "d_nested"
   ]
  },
  {
   "cell_type": "markdown",
   "id": "8103c115",
   "metadata": {},
   "source": [
    "## Q7. Using setdefault() method, create key named topics in the given dictionary and also add the value of the key as this list ['Python', 'Machine Learning’, 'Deep Learning']"
   ]
  },
  {
   "cell_type": "code",
   "execution_count": null,
   "id": "6f1bab77",
   "metadata": {},
   "outputs": [],
   "source": [
    "Setdefault() returns the value of a key (if the key is in dictionary). \n",
    "Else, it inserts a key with the default value to the dictionary."
   ]
  },
  {
   "cell_type": "code",
   "execution_count": 28,
   "id": "fd02824f",
   "metadata": {},
   "outputs": [],
   "source": [
    "dict1 = {'language' : 'Python', 'course': 'Data Science Masters'}"
   ]
  },
  {
   "cell_type": "code",
   "execution_count": 29,
   "id": "f858366a",
   "metadata": {},
   "outputs": [
    {
     "data": {
      "text/plain": [
       "['Python', 'Machine Learning', 'Deep Learning']"
      ]
     },
     "execution_count": 29,
     "metadata": {},
     "output_type": "execute_result"
    }
   ],
   "source": [
    "dict1.setdefault('Topics',['Python', 'Machine Learning','Deep Learning'])"
   ]
  },
  {
   "cell_type": "code",
   "execution_count": 30,
   "id": "d019d56a",
   "metadata": {},
   "outputs": [
    {
     "data": {
      "text/plain": [
       "{'language': 'Python',\n",
       " 'course': 'Data Science Masters',\n",
       " 'Topics': ['Python', 'Machine Learning', 'Deep Learning']}"
      ]
     },
     "execution_count": 30,
     "metadata": {},
     "output_type": "execute_result"
    }
   ],
   "source": [
    "dict1"
   ]
  },
  {
   "cell_type": "markdown",
   "id": "b0785135",
   "metadata": {},
   "source": [
    "## Q8. What are the three view objects in dictionaries? Use the three in-built methods in python to display these three view objects for the given dictionary.\n",
    "\n",
    "## dict1 = {'Sport': 'Cricket' , 'Teams': ['India', 'Australia', 'England', 'South Africa', 'Sri Lanka', 'New Zealand']}"
   ]
  },
  {
   "cell_type": "code",
   "execution_count": null,
   "id": "d822da13",
   "metadata": {},
   "outputs": [],
   "source": [
    "The three view objects of dictionary in python are keys, values and items."
   ]
  },
  {
   "cell_type": "code",
   "execution_count": 22,
   "id": "4e1a2247",
   "metadata": {},
   "outputs": [
    {
     "data": {
      "text/plain": [
       "dict_keys(['Sport', 'Teams'])"
      ]
     },
     "execution_count": 22,
     "metadata": {},
     "output_type": "execute_result"
    }
   ],
   "source": [
    "dict1 = {'Sport': 'Cricket' , 'Teams': ['India', 'Australia', 'England', 'South Africa', 'Sri Lanka', 'New Zealand']}\n",
    "# to view the keys of the dictionary\n",
    "dict1.keys()"
   ]
  },
  {
   "cell_type": "code",
   "execution_count": 23,
   "id": "ca22e6c1",
   "metadata": {},
   "outputs": [
    {
     "data": {
      "text/plain": [
       "dict_values(['Cricket', ['India', 'Australia', 'England', 'South Africa', 'Sri Lanka', 'New Zealand']])"
      ]
     },
     "execution_count": 23,
     "metadata": {},
     "output_type": "execute_result"
    }
   ],
   "source": [
    "# to view the valuesof the dictionary\n",
    "dict1.values()"
   ]
  },
  {
   "cell_type": "code",
   "execution_count": 24,
   "id": "827b64cc",
   "metadata": {},
   "outputs": [
    {
     "data": {
      "text/plain": [
       "dict_items([('Sport', 'Cricket'), ('Teams', ['India', 'Australia', 'England', 'South Africa', 'Sri Lanka', 'New Zealand'])])"
      ]
     },
     "execution_count": 24,
     "metadata": {},
     "output_type": "execute_result"
    }
   ],
   "source": [
    "# to view the keys and values of the dictionary in a list.\n",
    "dict1.items()"
   ]
  },
  {
   "cell_type": "code",
   "execution_count": null,
   "id": "4e51db33",
   "metadata": {},
   "outputs": [],
   "source": []
  }
 ],
 "metadata": {
  "kernelspec": {
   "display_name": "Python 3 (ipykernel)",
   "language": "python",
   "name": "python3"
  },
  "language_info": {
   "codemirror_mode": {
    "name": "ipython",
    "version": 3
   },
   "file_extension": ".py",
   "mimetype": "text/x-python",
   "name": "python",
   "nbconvert_exporter": "python",
   "pygments_lexer": "ipython3",
   "version": "3.9.12"
  }
 },
 "nbformat": 4,
 "nbformat_minor": 5
}
